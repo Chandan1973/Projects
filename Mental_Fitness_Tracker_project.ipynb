{
  "cells": [
    {
      "cell_type": "markdown",
      "metadata": {
        "id": "view-in-github",
        "colab_type": "text"
      },
      "source": [
        "<a href=\"https://colab.research.google.com/github/Chandan1973/Projects/blob/main/Mental_Fitness_Tracker_project.ipynb\" target=\"_parent\"><img src=\"https://colab.research.google.com/assets/colab-badge.svg\" alt=\"Open In Colab\"/></a>"
      ]
    },
    {
      "cell_type": "markdown",
      "metadata": {
        "id": "wsrHvj-pRpz3"
      },
      "source": [
        "### Import Libraries"
      ]
    },
    {
      "cell_type": "code",
      "execution_count": 1,
      "metadata": {
        "id": "s_QNXbepR26z"
      },
      "outputs": [],
      "source": [
        "import warnings\n",
        "warnings.filterwarnings('ignore')"
      ]
    },
    {
      "cell_type": "code",
      "execution_count": 2,
      "metadata": {
        "id": "dyfc80Ov1-J0"
      },
      "outputs": [],
      "source": [
        "import numpy as np\n",
        "import matplotlib.pyplot as plt\n",
        "import pandas as pd\n",
        "import seaborn as sns"
      ]
    },
    {
      "cell_type": "code",
      "source": [
        "from google.colab import drive\n",
        "drive.mount('/content/drive')"
      ],
      "metadata": {
        "colab": {
          "base_uri": "https://localhost:8080/"
        },
        "id": "3BYigzucKfq6",
        "outputId": "d532c798-9c6e-4ba1-ea4c-07ea9e31b78f"
      },
      "execution_count": 4,
      "outputs": [
        {
          "output_type": "stream",
          "name": "stdout",
          "text": [
            "Mounted at /content/drive\n"
          ]
        }
      ]
    },
    {
      "cell_type": "markdown",
      "source": [
        "Add `%load_ext cudf.pandas` before importing pandas to speed up operations using GPU"
      ],
      "metadata": {
        "id": "8I9WU7CaK-QH"
      }
    },
    {
      "cell_type": "code",
      "source": [
        "%load_ext cudf.pandas\n",
        "import pandas as pd\n",
        "import numpy as np\n",
        "\n",
        "# Randomly generated dataset of parking violations-\n",
        "# Define the number of rows\n",
        "num_rows = 1000000\n",
        "\n",
        "states = [\"NY\", \"NJ\", \"CA\", \"TX\"]\n",
        "violations = [\"Double Parking\", \"Expired Meter\", \"No Parking\",\n",
        "              \"Fire Hydrant\", \"Bus Stop\"]\n",
        "vehicle_types = [\"SUBN\", \"SDN\"]\n",
        "\n",
        "# Create a date range\n",
        "start_date = \"2022-01-01\"\n",
        "end_date = \"2022-12-31\"\n",
        "dates = pd.date_range(start=start_date, end=end_date, freq='D')\n",
        "\n",
        "# Generate random data\n",
        "data = {\n",
        "    \"Registration State\": np.random.choice(states, size=num_rows),\n",
        "    \"Violation Description\": np.random.choice(violations, size=num_rows),\n",
        "    \"Vehicle Body Type\": np.random.choice(vehicle_types, size=num_rows),\n",
        "    \"Issue Date\": np.random.choice(dates, size=num_rows),\n",
        "    \"Ticket Number\": np.random.randint(1000000000, 9999999999, size=num_rows)\n",
        "}\n",
        "\n",
        "# Create a DataFrame\n",
        "df = pd.DataFrame(data)\n",
        "\n",
        "# Which parking violation is most commonly committed by vehicles from various U.S states?\n",
        "\n",
        "(df[[\"Registration State\", \"Violation Description\"]]  # get only these two columns\n",
        " .value_counts()  # get the count of offences per state and per type of offence\n",
        " .groupby(\"Registration State\")  # group by state\n",
        " .head(1)  # get the first row in each group (the type of offence with the largest count)\n",
        " .sort_index()  # sort by state name\n",
        " .reset_index()\n",
        ")"
      ],
      "metadata": {
        "colab": {
          "base_uri": "https://localhost:8080/",
          "height": 175
        },
        "id": "fj6JXQPYK-QH",
        "outputId": "2335e048-aa0c-4d9d-a641-0bc0bd69134f"
      },
      "execution_count": 5,
      "outputs": [
        {
          "output_type": "execute_result",
          "data": {
            "text/plain": [
              "  Registration State Violation Description  count\n",
              "0                 CA            No Parking  50174\n",
              "1                 NJ         Expired Meter  50240\n",
              "2                 NY          Fire Hydrant  50103\n",
              "3                 TX          Fire Hydrant  50381"
            ],
            "text/html": [
              "<div>\n",
              "<style scoped>\n",
              "    .dataframe tbody tr th:only-of-type {\n",
              "        vertical-align: middle;\n",
              "    }\n",
              "\n",
              "    .dataframe tbody tr th {\n",
              "        vertical-align: top;\n",
              "    }\n",
              "\n",
              "    .dataframe thead th {\n",
              "        text-align: right;\n",
              "    }\n",
              "</style>\n",
              "<table border=\"1\" class=\"dataframe\">\n",
              "  <thead>\n",
              "    <tr style=\"text-align: right;\">\n",
              "      <th></th>\n",
              "      <th>Registration State</th>\n",
              "      <th>Violation Description</th>\n",
              "      <th>count</th>\n",
              "    </tr>\n",
              "  </thead>\n",
              "  <tbody>\n",
              "    <tr>\n",
              "      <th>0</th>\n",
              "      <td>CA</td>\n",
              "      <td>No Parking</td>\n",
              "      <td>50174</td>\n",
              "    </tr>\n",
              "    <tr>\n",
              "      <th>1</th>\n",
              "      <td>NJ</td>\n",
              "      <td>Expired Meter</td>\n",
              "      <td>50240</td>\n",
              "    </tr>\n",
              "    <tr>\n",
              "      <th>2</th>\n",
              "      <td>NY</td>\n",
              "      <td>Fire Hydrant</td>\n",
              "      <td>50103</td>\n",
              "    </tr>\n",
              "    <tr>\n",
              "      <th>3</th>\n",
              "      <td>TX</td>\n",
              "      <td>Fire Hydrant</td>\n",
              "      <td>50381</td>\n",
              "    </tr>\n",
              "  </tbody>\n",
              "</table>\n",
              "</div>"
            ],
            "application/vnd.google.colaboratory.intrinsic+json": {
              "type": "dataframe",
              "summary": "{\n  \"name\": \")\",\n  \"rows\": 4,\n  \"fields\": [\n    {\n      \"column\": \"Registration State\",\n      \"properties\": {\n        \"dtype\": \"string\",\n        \"num_unique_values\": 4,\n        \"samples\": [\n          \"NJ\",\n          \"TX\",\n          \"CA\"\n        ],\n        \"semantic_type\": \"\",\n        \"description\": \"\"\n      }\n    },\n    {\n      \"column\": \"Violation Description\",\n      \"properties\": {\n        \"dtype\": \"string\",\n        \"num_unique_values\": 3,\n        \"samples\": [\n          \"No Parking\",\n          \"Expired Meter\",\n          \"Fire Hydrant\"\n        ],\n        \"semantic_type\": \"\",\n        \"description\": \"\"\n      }\n    },\n    {\n      \"column\": \"count\",\n      \"properties\": {\n        \"dtype\": \"number\",\n        \"std\": 118,\n        \"min\": 50103,\n        \"max\": 50381,\n        \"num_unique_values\": 4,\n        \"samples\": [\n          50240,\n          50381,\n          50174\n        ],\n        \"semantic_type\": \"\",\n        \"description\": \"\"\n      }\n    }\n  ]\n}"
            }
          },
          "metadata": {},
          "execution_count": 5
        }
      ]
    },
    {
      "cell_type": "code",
      "execution_count": null,
      "metadata": {
        "id": "YySNy8L4jBQe"
      },
      "outputs": [],
      "source": [
        "from google.colab import files\n",
        "uploaded=files.upload()"
      ]
    },
    {
      "cell_type": "code",
      "execution_count": null,
      "metadata": {
        "id": "kn5iyPRJjmOx"
      },
      "outputs": [],
      "source": [
        "uploaded=files.upload()"
      ]
    },
    {
      "cell_type": "code",
      "execution_count": null,
      "metadata": {
        "id": "Vn4iVnza3nj2"
      },
      "outputs": [],
      "source": [
        "df1=pd.read_csv(\"prevalence-by-mental-and-substance-use-disorder _AI.csv\")"
      ]
    },
    {
      "cell_type": "code",
      "execution_count": null,
      "metadata": {
        "id": "sIf5mKt7mE8V"
      },
      "outputs": [],
      "source": [
        "df2=pd.read_csv(\"mental-and-substance-use-as-share-of-disease -AI.csv\")"
      ]
    },
    {
      "cell_type": "code",
      "execution_count": null,
      "metadata": {
        "id": "7NPXXlCZmOoM"
      },
      "outputs": [],
      "source": [
        "import plotly.express as px #provides functions to visualize a variety of types of data"
      ]
    },
    {
      "cell_type": "code",
      "execution_count": null,
      "metadata": {
        "id": "UAL9yIS71KyJ"
      },
      "outputs": [],
      "source": [
        "df1"
      ]
    },
    {
      "cell_type": "code",
      "execution_count": null,
      "metadata": {
        "id": "iHWut54t_8Zv"
      },
      "outputs": [],
      "source": [
        "df2"
      ]
    },
    {
      "cell_type": "markdown",
      "metadata": {
        "id": "XW1X74uAB8d5"
      },
      "source": [
        "## merging two datasets"
      ]
    },
    {
      "cell_type": "code",
      "execution_count": null,
      "metadata": {
        "id": "xroVhap4AYfK"
      },
      "outputs": [],
      "source": [
        "data=pd.merge(df1,df2)\n",
        "data.head()"
      ]
    },
    {
      "cell_type": "code",
      "execution_count": null,
      "metadata": {
        "id": "D5MgioCGCIsw"
      },
      "outputs": [],
      "source": [
        "#missing values in dataset\n",
        "data.isnull().sum()"
      ]
    },
    {
      "cell_type": "code",
      "execution_count": null,
      "metadata": {
        "id": "cq-jrkaNCM3-"
      },
      "outputs": [],
      "source": [
        "#drop the column\n",
        "df=data.drop(columns=['Code','Entity'])"
      ]
    },
    {
      "cell_type": "code",
      "execution_count": null,
      "metadata": {
        "id": "VS9P5U67E-Em"
      },
      "outputs": [],
      "source": [
        "df"
      ]
    },
    {
      "cell_type": "code",
      "execution_count": null,
      "metadata": {
        "id": "nTm246FqDS_0"
      },
      "outputs": [],
      "source": [
        "df.size"
      ]
    },
    {
      "cell_type": "code",
      "execution_count": null,
      "metadata": {
        "id": "J7jgTbmLEwRL"
      },
      "outputs": [],
      "source": [
        "df.shape"
      ]
    },
    {
      "cell_type": "code",
      "execution_count": null,
      "metadata": {
        "id": "4R9bXa6rF8iu"
      },
      "outputs": [],
      "source": [
        "#column names\n",
        "df.rename(columns={\t'Prevalence - Schizophrenia - Sex: Both - Age: Age-standardized (Percent)':'schizophrenia',\t'Prevalence - Bipolar disorder - Sex: Both - Age: Age-standardized (Percent)':'bipolar_disorder',\t'Prevalence - Eating disorders - Sex: Both - Age: Age-standardized (Percent)':'eating_disorder',\t'Prevalence - Anxiety disorders - Sex: Both - Age: Age-standardized (Percent)':'anxiety', 'Prevalence - Drug use disorders - Sex: Both - Age: Age-standardized (Percent)':'drug_usage',\t'Prevalence - Depressive disorders - Sex: Both - Age: Age-standardized (Percent)':'depression',\t'Prevalence - Alcohol use disorders - Sex: Both - Age: Age-standardized (Percent)':'alcohol',\t'DALYs (Disability-Adjusted Life Years) - Mental disorders - Sex: Both - Age: All Ages (Percent)':'mental-fitness'},inplace=True)"
      ]
    },
    {
      "cell_type": "code",
      "execution_count": null,
      "metadata": {
        "id": "gcrSxFd8JMQx"
      },
      "outputs": [],
      "source": [
        "df.head()"
      ]
    },
    {
      "cell_type": "code",
      "execution_count": null,
      "metadata": {
        "id": "5dwFFz73KXg6"
      },
      "outputs": [],
      "source": [
        "fig=px.pie(df, values='mental-fitness', names='Year')\n",
        "fig.show()"
      ]
    },
    {
      "cell_type": "code",
      "execution_count": null,
      "metadata": {
        "id": "3PTEzKY5L9Vh"
      },
      "outputs": [],
      "source": [
        "fig=px.bar(df,x='Year', y='mental-fitness', color='Year')\n",
        "fig.show()"
      ]
    },
    {
      "cell_type": "code",
      "execution_count": null,
      "metadata": {
        "id": "qRoHxfQrS8wr"
      },
      "outputs": [],
      "source": [
        "df.info"
      ]
    },
    {
      "cell_type": "code",
      "execution_count": null,
      "metadata": {
        "id": "mJW61HDeUV6Q"
      },
      "outputs": [],
      "source": [
        "mean=df['mental-fitness'].mean()\n",
        "mean"
      ]
    },
    {
      "cell_type": "code",
      "execution_count": null,
      "metadata": {
        "id": "MZNciGzrVi_c"
      },
      "outputs": [],
      "source": [
        "df.info()"
      ]
    },
    {
      "cell_type": "code",
      "execution_count": null,
      "metadata": {
        "id": "woZDY7rok2RW"
      },
      "outputs": [],
      "source": [
        "'''from sklearn.preprocessing import LabelEncoder\n",
        "l=LabelEncoder()\n",
        "for i in df.columns:\n",
        "  if df[i].dtype== 'object':\n",
        "    df[i]=l.fit_transform(df[i])'''"
      ]
    },
    {
      "cell_type": "code",
      "execution_count": null,
      "metadata": {
        "id": "71CCSjz3WKuP"
      },
      "outputs": [],
      "source": [
        "df.shape"
      ]
    },
    {
      "cell_type": "code",
      "execution_count": null,
      "metadata": {
        "id": "4_IjM6aQ763d"
      },
      "outputs": [],
      "source": [
        "x=df.drop('mental-fitness',axis=1)\n",
        "y=df['mental-fitness']\n",
        "from sklearn.model_selection import train_test_split\n",
        "x_train, x_test, y_train, y_test= train_test_split(x, y, test_size= 0.20, random_state=2)"
      ]
    },
    {
      "cell_type": "code",
      "execution_count": null,
      "metadata": {
        "id": "kWCW9mHkXk9w"
      },
      "outputs": [],
      "source": [
        "print('xtrain:',x_train.shape)\n",
        "print('xtest:',x_test.shape)\n",
        "print('ytrain:',y_train.shape)\n",
        "print('ytest:',y_test.shape)"
      ]
    },
    {
      "cell_type": "markdown",
      "metadata": {
        "id": "IjHgdrHdnWvB"
      },
      "source": [
        "## Linear regression"
      ]
    },
    {
      "cell_type": "code",
      "execution_count": null,
      "metadata": {
        "id": "LO1-8qymKWfY"
      },
      "outputs": [],
      "source": [
        "from sklearn.linear_model import LinearRegression\n",
        "from sklearn.metrics import mean_squared_error,r2_score\n",
        "lr= LinearRegression()\n",
        "lr.fit(x_train, y_train)  #fit training data\n",
        "\n",
        "ytrain_pred=lr.predict(x_train) #model evaluation for training set\n",
        "print('MSE:',mean_squared_error(y_train,ytrain_pred))\n",
        "print('RMSE',np.sqrt(mean_squared_error(y_train,ytrain_pred)))\n",
        "print('R2',r2_score(y_train,ytrain_pred))\n",
        "\n",
        "print(\"linear regression model performance:\")\n",
        "lr.score(x_test, y_test)"
      ]
    },
    {
      "cell_type": "markdown",
      "metadata": {
        "id": "fZjpzGH2nvFz"
      },
      "source": [
        "## Random forest"
      ]
    },
    {
      "cell_type": "code",
      "execution_count": null,
      "metadata": {
        "id": "sP8rF-cyZhkh"
      },
      "outputs": [],
      "source": [
        "from sklearn.ensemble import RandomForestRegressor\n",
        "regressor= RandomForestRegressor()\n",
        "regressor.fit(x_train, y_train)\n",
        "\n",
        "ytrain_pre=regressor.predict(x_train)\n",
        "\n",
        "print(\"MSE=\",mean_squared_error(y_train,ytrain_pre))\n",
        "print(\"Root mean square error RMSE=\",np.sqrt(mean_squared_error(y_train,ytrain_pre)))\n",
        "print(\"R squared=\",r2_score(y_train,ytrain_pre))\n",
        "\n",
        "print(\"random forest regression model performance:\")\n",
        "regressor.score(x_test,y_test)"
      ]
    },
    {
      "cell_type": "markdown",
      "metadata": {
        "id": "6iAF2FPqbnvw"
      },
      "source": [
        "## Evaluation\n",
        " - In this we compare the score of above models\n",
        "\n",
        "\n",
        "\n",
        "\n",
        "\n",
        "\n",
        "\n",
        "\n",
        "\n",
        "\n",
        "\n",
        "\n",
        "\n",
        "\n"
      ]
    },
    {
      "cell_type": "code",
      "execution_count": null,
      "metadata": {
        "id": "LJcV4oT8ZpSH"
      },
      "outputs": [],
      "source": [
        "#linear regression\n",
        "from sklearn.metrics import mean_squared_error,r2_score\n",
        "ytest_pred=lr.predict(x_test)\n",
        "\n",
        "print(\"MSE=\",mean_squared_error(y_test,ytest_pred))\n",
        "print(\"Root mean square error RMSE=\",np.sqrt(mean_squared_error(y_test,ytest_pred)))\n",
        "print(\"R Squared=\",r2_score(y_test,ytest_pred))"
      ]
    },
    {
      "cell_type": "code",
      "execution_count": null,
      "metadata": {
        "id": "Wgsry6hPriBq"
      },
      "outputs": [],
      "source": [
        "#random forest regression\n",
        "ytest_pre=regressor.predict(x_test)\n",
        "print(\"MSE=\",mean_squared_error(y_test,ytest_pre))\n",
        "print(\"Root mean square error RMSE=\",np.sqrt(mean_squared_error(y_test,ytest_pre)))\n",
        "print(\"R squared=\",r2_score(y_test,ytest_pre))"
      ]
    },
    {
      "cell_type": "code",
      "execution_count": null,
      "metadata": {
        "id": "-t7qYVPRn30t"
      },
      "outputs": [],
      "source": [
        "!pip install ipywidgets\n",
        "\n",
        "import ipywidgets as widgets\n",
        "from IPython.display import display"
      ]
    },
    {
      "cell_type": "code",
      "execution_count": null,
      "metadata": {
        "id": "VHyj2qdOkF5S"
      },
      "outputs": [],
      "source": [
        "\n",
        "# Create widgets\n",
        "#country_input = widgets.Text(description=\"Country:\")\n",
        "year_input = widgets.IntSlider(min=2000, max=2023, description=\"Year:\")\n",
        "schizophrenia_input = widgets.FloatSlider(min=0, max=100, description=\"Schizophrenia Rate (%):\")\n",
        "bipolar_input = widgets.FloatSlider(min=0, max=100, description=\"Bipolar Disorder Rate (%):\")\n",
        "eating_input = widgets.FloatSlider(min=0, max=100, description=\"Eating Disorder Rate (%):\")\n",
        "anxiety_input = widgets.FloatSlider(min=0, max=100, description=\"Anxiety Rate (%):\")\n",
        "drug_input = widgets.FloatSlider(min=0, max=100, description=\"Drug Usage Rate (%):\")\n",
        "depression_input = widgets.FloatSlider(min=0, max=100, description=\"Depression Rate (%):\")\n",
        "alcohol_input = widgets.FloatSlider(min=0, max=100, description=\"Alcohol Consumption Rate (%):\")\n",
        "predict_button = widgets.Button(description=\"Predict Mental Fitness\")\n",
        "\n",
        "# Display widgets\n",
        "#display(country_input)\n",
        "display(year_input)\n",
        "display(schizophrenia_input)\n",
        "display(bipolar_input)\n",
        "display(eating_input)\n",
        "display(anxiety_input)\n",
        "display(drug_input)\n",
        "display(depression_input)\n",
        "display(alcohol_input)\n",
        "display(predict_button)\n",
        "\n",
        "# Define your function for mental fitness prediction\n",
        "def predict_mental_fitness(_):\n",
        "    # Get values from widgets\n",
        "    #country = country_input.value\n",
        "    year = year_input.value\n",
        "    schizophrenia = schizophrenia_input.value / 100\n",
        "    bipolar_disorder = bipolar_input.value / 100\n",
        "    eating_disorder = eating_input.value / 100\n",
        "    anxiety = anxiety_input.value / 100\n",
        "    drug_usage = drug_input.value / 100\n",
        "    depression = depression_input.value / 100\n",
        "    alcohol = alcohol_input.value / 100\n",
        "\n",
        "    # Perform prediction (replace this with your actual prediction logic)\n",
        "    input_features = [[year, schizophrenia, bipolar_disorder, eating_disorder, anxiety, drug_usage, depression, alcohol]]\n",
        "\n",
        "    # Perform the prediction using your model\n",
        "    prediction = regressor.predict(input_features)\n",
        "  # Replace this with your actual prediction logic\n",
        "\n",
        "    # Display the prediction result\n",
        "    print(\"Your predicted mental fitness is {}%\".format(prediction * 10))\n",
        "\n",
        "# Connect the button to the function\n",
        "predict_button.on_click(predict_mental_fitness)\n"
      ]
    },
    {
      "cell_type": "code",
      "execution_count": null,
      "metadata": {
        "id": "e8ziab5fB6Ms"
      },
      "outputs": [],
      "source": []
    }
  ],
  "metadata": {
    "colab": {
      "provenance": [],
      "include_colab_link": true
    },
    "kernelspec": {
      "display_name": "Python 3",
      "name": "python3"
    },
    "language_info": {
      "name": "python"
    }
  },
  "nbformat": 4,
  "nbformat_minor": 0
}